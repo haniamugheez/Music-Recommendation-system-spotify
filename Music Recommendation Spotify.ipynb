{
 "cells": [
  {
   "cell_type": "code",
   "execution_count": 1,
   "id": "97426109",
   "metadata": {},
   "outputs": [],
   "source": [
    "import spotipy\n",
    "from spotipy.oauth2 import SpotifyClientCredentials\n",
    "\n",
    "import pandas as pd\n",
    "from sklearn.model_selection import train_test_split\n",
    "from sklearn.ensemble import RandomForestClassifier\n",
    "from sklearn.metrics import accuracy_score\n",
    "\n",
    "from datetime import datetime, timedelta\n",
    "import random"
   ]
  },
  {
   "cell_type": "code",
   "execution_count": 9,
   "id": "1248583f",
   "metadata": {},
   "outputs": [
    {
     "name": "stdout",
     "output_type": "stream",
     "text": [
      "Collecting spotipy\n",
      "  Obtaining dependency information for spotipy from https://files.pythonhosted.org/packages/b8/e8/4c099f9431ec9a86f576b344702cd4446d1ff7df09b172dc1951f25d58b1/spotipy-2.23.0-py3-none-any.whl.metadata\n",
      "  Downloading spotipy-2.23.0-py3-none-any.whl.metadata (3.3 kB)\n",
      "Collecting redis>=3.5.3 (from spotipy)\n",
      "  Obtaining dependency information for redis>=3.5.3 from https://files.pythonhosted.org/packages/65/f2/540ad07910732733138beb192991c67c69e7f6ebf549ce1a3a77846cbae7/redis-5.0.4-py3-none-any.whl.metadata\n",
      "  Downloading redis-5.0.4-py3-none-any.whl.metadata (9.3 kB)\n",
      "Requirement already satisfied: requests>=2.25.0 in d:\\users\\dell\\lib\\site-packages (from spotipy) (2.31.0)\n",
      "Requirement already satisfied: six>=1.15.0 in d:\\users\\dell\\lib\\site-packages (from spotipy) (1.16.0)\n",
      "Requirement already satisfied: urllib3>=1.26.0 in d:\\users\\dell\\lib\\site-packages (from spotipy) (1.26.16)\n",
      "Requirement already satisfied: charset-normalizer<4,>=2 in d:\\users\\dell\\lib\\site-packages (from requests>=2.25.0->spotipy) (2.0.4)\n",
      "Requirement already satisfied: idna<4,>=2.5 in d:\\users\\dell\\lib\\site-packages (from requests>=2.25.0->spotipy) (3.4)\n",
      "Requirement already satisfied: certifi>=2017.4.17 in d:\\users\\dell\\lib\\site-packages (from requests>=2.25.0->spotipy) (2023.7.22)\n",
      "Downloading spotipy-2.23.0-py3-none-any.whl (29 kB)\n",
      "Downloading redis-5.0.4-py3-none-any.whl (251 kB)\n",
      "   ---------------------------------------- 0.0/252.0 kB ? eta -:--:--\n",
      "   -------------------------- ------------- 163.8/252.0 kB 4.8 MB/s eta 0:00:01\n",
      "   ---------------------------------------- 252.0/252.0 kB 3.8 MB/s eta 0:00:00\n",
      "Installing collected packages: redis, spotipy\n",
      "Successfully installed redis-5.0.4 spotipy-2.23.0\n",
      "Note: you may need to restart the kernel to use updated packages.\n"
     ]
    }
   ],
   "source": [
    "pip install spotipy"
   ]
  },
  {
   "cell_type": "code",
   "execution_count": 2,
   "id": "8e7dcb3b",
   "metadata": {},
   "outputs": [],
   "source": [
    "#set up API credentials\n",
    "client_id = 'db9fff29e8f5477ea8ac9b0abf1fa2ee'\n",
    "client_secret = '1ba6757feefd40d4869688b476bc30bc'\n",
    "client_credentials_manager = SpotifyClientCredentials(client_id, client_secret)\n",
    "sp = spotipy.Spotify(client_credentials_manager=client_credentials_manager)"
   ]
  },
  {
   "cell_type": "code",
   "execution_count": 3,
   "id": "86d67572",
   "metadata": {},
   "outputs": [
    {
     "name": "stdout",
     "output_type": "stream",
     "text": [
      "Recommended tracks: \n",
      "Sweet Home Alabama\n",
      "Time Of The Season\n",
      "I'm a Believer - 2006 Remaster\n",
      "Ain't Talkin' 'Bout Love - 2015 Remaster\n",
      "Heaven and Hell - 2008 Remaster\n",
      "Hold the Line\n",
      "All Along the Watchtower\n",
      "Break on Through (To the Other Side)\n",
      "Yellow Ledbetter\n",
      "Mr. Tambourine Man\n",
      "Ordinary World\n",
      "You Can't Always Get What You Want\n",
      "Roxanne\n",
      "The Man Who Sold the World - 2015 Remaster\n",
      "Where Is My Mind? - 2007 Remaster\n",
      "We're Not Gonna Take It\n",
      "Don't Let Me Be Misunderstood\n",
      "Fly Like An Eagle\n",
      "Hey You\n",
      "By the Way\n"
     ]
    }
   ],
   "source": [
    "def recommend_music(seed_track):\n",
    "    # Get the track ID of the seed track\n",
    "    results = sp.search(q=seed_track, type='track', limit=1)\n",
    "    seed_track_id = results['tracks']['items'][0]['id']\n",
    "    \n",
    "    # Get recommendations based on the seed track ID\n",
    "    recommendations = sp.recommendations(seed_tracks=[seed_track_id])\n",
    "    \n",
    "    # Extract recommended track names\n",
    "    recommended_tracks = [track['name'] for track in recommendations['tracks']]\n",
    "    \n",
    "    return recommended_tracks\n",
    "\n",
    "# Example usage\n",
    "seed_track = 'Stairway to Heaven'\n",
    "recommended_tracks = recommend_music(seed_track)\n",
    "print('Recommended tracks: ')\n",
    "for track in recommended_tracks:\n",
    "    print(track)\n"
   ]
  },
  {
   "cell_type": "code",
   "execution_count": 4,
   "id": "5fcdaab0",
   "metadata": {},
   "outputs": [
    {
     "name": "stdout",
     "output_type": "stream",
     "text": [
      "Recommended tracks:\n",
      "Fox On The Run\n",
      "Free Bird\n",
      "Love Of My Life - Remastered 2011\n",
      "Bad Medicine\n",
      "Help! - Remastered 2009\n",
      "Africa\n",
      "Don't Stop 'Til You Get Enough\n",
      "Song 2 - 2012 Remaster\n",
      "I'm A Believer\n",
      "Seven Seas Of Rhye - Remastered 2011\n",
      "Sweet Caroline\n",
      "Here Comes The Sun - Remastered 2009\n",
      "Waterloo\n",
      "September\n",
      "Don't You Want Me\n",
      "Flash - Single Version\n",
      "Surfin' U.S.A. - Remastered 2001\n",
      "Sweet Home Alabama\n",
      "I Fought the Law\n",
      "Time After Time\n"
     ]
    }
   ],
   "source": [
    "if __name__ == \"__main__\":\n",
    "    seed_track = 'Bohemian Rhapsody'\n",
    "    recommended_tracks = recommend_music(seed_track)\n",
    "    print('Recommended tracks:')\n",
    "    for track in recommended_tracks:\n",
    "        print(track)\n"
   ]
  },
  {
   "cell_type": "code",
   "execution_count": 5,
   "id": "2725f5b2",
   "metadata": {},
   "outputs": [],
   "source": [
    "import datetime\n",
    "import random\n",
    "\n",
    "start_date = datetime.datetime(2024, 1, 1)\n",
    "end_date = datetime.datetime(2024, 1, 31)\n",
    "\n",
    "timestamps = [start_date + datetime.timedelta(\n",
    "    days=random.randint(0, 30),\n",
    "    hours=random.randint(0, 23),\n",
    "    minutes=random.randint(0, 59),\n",
    "    seconds=random.randint(0, 59))\n",
    "    for _ in range(100)]\n",
    "\n",
    "# Now you can create a dataframe with timestamps if needed\n",
    "df_timestamps = pd.DataFrame({'timestamp': timestamps})"
   ]
  },
  {
   "cell_type": "code",
   "execution_count": 6,
   "id": "eef8223c",
   "metadata": {},
   "outputs": [
    {
     "name": "stdout",
     "output_type": "stream",
     "text": [
      "             timestamp\n",
      "0  2024-01-13 06:22:58\n",
      "1  2024-01-15 14:01:50\n",
      "2  2024-01-17 18:20:39\n",
      "3  2024-01-08 21:45:32\n",
      "4  2024-01-15 10:21:51\n",
      "..                 ...\n",
      "95 2024-01-06 10:24:51\n",
      "96 2024-01-17 01:31:15\n",
      "97 2024-01-26 22:48:53\n",
      "98 2024-01-26 04:12:34\n",
      "99 2024-01-03 10:40:41\n",
      "\n",
      "[100 rows x 1 columns]\n"
     ]
    }
   ],
   "source": [
    "#display the df\n",
    "print(df_timestamps)"
   ]
  },
  {
   "cell_type": "code",
   "execution_count": null,
   "id": "344008e8",
   "metadata": {},
   "outputs": [],
   "source": []
  }
 ],
 "metadata": {
  "kernelspec": {
   "display_name": "Python 3 (ipykernel)",
   "language": "python",
   "name": "python3"
  },
  "language_info": {
   "codemirror_mode": {
    "name": "ipython",
    "version": 3
   },
   "file_extension": ".py",
   "mimetype": "text/x-python",
   "name": "python",
   "nbconvert_exporter": "python",
   "pygments_lexer": "ipython3",
   "version": "3.11.4"
  }
 },
 "nbformat": 4,
 "nbformat_minor": 5
}
